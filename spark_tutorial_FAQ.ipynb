{
 "cells": [
  {
   "cell_type": "markdown",
   "metadata": {},
   "source": [
    "# FAQ\n",
    "\n",
    "Author: The community - compiled by **Julien Peloton** [@JulienPeloton](https://github.com/astrolabsoftware/spark-tutorials/issues/new?body=@JulienPeloton)  \n",
    "Last Verifed to Run: **2018-10-25**  \n",
    "\n",
    "You will find below a list of embarrassing questions that we are all ashamed of asking and their potential answer..."
   ]
  },
  {
   "cell_type": "markdown",
   "metadata": {},
   "source": [
    "```\n",
    "Q: Why do I need to specify python modules with `--py-files` if they can be found in my PYTHONPATH or PATH?\n",
    "```\n",
    "\n",
    "The answer is: because of distributed computing! It is correct that your _driver_, that is the machine where your program is shipped is probably aware of those modules, but the _executors_, that is the other machines of the network, they probably do not know those (unless you explicitly installed the modules on all the machines of the network).\n",
    "Of course, if you are in local mode (e.g. in your laptop) _driver_ and _executors_ are in the same machine (just different threads) so you do not see this problem. Note that modules listed in `--py-files` will be basically broadcasted to the executors. "
   ]
  },
  {
   "cell_type": "code",
   "execution_count": null,
   "metadata": {},
   "outputs": [],
   "source": []
  }
 ],
 "metadata": {
  "kernelspec": {
   "display_name": "Python 3",
   "language": "python",
   "name": "python3"
  },
  "language_info": {
   "codemirror_mode": {
    "name": "ipython",
    "version": 3
   },
   "file_extension": ".py",
   "mimetype": "text/x-python",
   "name": "python",
   "nbconvert_exporter": "python",
   "pygments_lexer": "ipython3",
   "version": "3.7.0"
  }
 },
 "nbformat": 4,
 "nbformat_minor": 2
}
