{
 "cells": [
  {
   "cell_type": "markdown",
   "metadata": {},
   "source": [
    "# Apache Spark @ NERSC\n",
    "\n",
    "## batch mode \n",
    "\n",
    "NERSC provides support to run Spark at scale. Note that for Spark version 2.3.0+, Spark runs inside of [Shifter](http://www.nersc.gov/research-and-development/user-defined-images/). Complete information is available at [spark-distributed-analytic-framework](www.nersc.gov/users/data-analytics/data-analytics-2/spark-distributed-analytic-framework/).\n",
    "\n",
    "## JupyterLab\n",
    "\n",
    "We provide kernels to work with Apache Spark and DESC. To get a DESC python + Apache Spark kernel, follow these steps:\n",
    "\n",
    "```bash\n",
    "# Clone the repo\n",
    "git clone https://github.com/astrolabsoftware/spark-kernel-nersc.git\n",
    "cd spark-kernel-nersc\n",
    "\n",
    "# Where the Spark logs will be stored\n",
    "# Logs can be then be browsed from the Spark UI\n",
    "LOGDIR=${SCRATCH}/spark/event_logs\n",
    "mkdir -p ${LOGDIR}\n",
    "\n",
    "# Resource to use. Here we will use 4 threads.\n",
    "RESOURCE=local[4]\n",
    "\n",
    "# Extra libraries (comma separated if many) to use.\n",
    "SPARKFITS=com.github.astrolabsoftware:spark-fits_2.11:0.7.1\n",
    "\n",
    "# Create the kernel - it will be stored under\n",
    "# $HOME/.ipython/kernels/<kernelname>\n",
    "python makekernel.py \\\n",
    "  -kernelname desc-pyspark --desc \\\n",
    "  -pyspark_args \"--master ${RESOURCE} \\\n",
    "  --conf spark.eventLog.enabled=true \\\n",
    "  --conf spark.eventLog.dir=file://${LOGDIR} \\\n",
    "  --conf spark.history.fs.logDirectory=file://${LOGDIR} \\\n",
    "  --packages ${SPARKFITS}\"\n",
    "\n",
    "\n",
    "```\n",
    "\n",
    "And then select the kernel `desc-pyspark` in the JupyerLab [interface](https://jupyter-dev.nersc.gov/).\n",
    "More information can be found at [spark-kernel-nersc](https://github.com/astrolabsoftware/spark-kernel-nersc)."
   ]
  },
  {
   "cell_type": "code",
   "execution_count": null,
   "metadata": {},
   "outputs": [],
   "source": []
  }
 ],
 "metadata": {
  "kernelspec": {
   "display_name": "Python 3",
   "language": "python",
   "name": "python3"
  },
  "language_info": {
   "codemirror_mode": {
    "name": "ipython",
    "version": 3
   },
   "file_extension": ".py",
   "mimetype": "text/x-python",
   "name": "python",
   "nbconvert_exporter": "python",
   "pygments_lexer": "ipython3",
   "version": "3.7.0"
  }
 },
 "nbformat": 4,
 "nbformat_minor": 2
}
